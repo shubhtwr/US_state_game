{
 "cells": [
  {
   "cell_type": "code",
   "execution_count": 9,
   "metadata": {},
   "outputs": [],
   "source": [
    "import turtle\n",
    "import pandas as pd\n",
    "screen = turtle.Screen()\n",
    "screen.title(\"US State Game\")\n",
    "img = \"blank_states_img.gif\"\n",
    "screen.addshape(img)\n",
    "game = turtle.Turtle()\n",
    "game.shape(img)\n",
    "score = 0\n",
    "guessed = []\n",
    "\n",
    "data = pd.read_csv(\"50_states.csv\")\n",
    "state_list = data.state.to_list()\n",
    "\n",
    "while len(guessed) < 50:\n",
    "    answer = screen.textinput(title=f\"{score}/{len(data.state)} States Correct\", prompt=\"What's another state\").title()\n",
    "    if answer in data.values:\n",
    "        guessed.append(answer)\n",
    "        state_list.remove(answer)\n",
    "        score += 1\n",
    "        ans = turtle.Turtle()\n",
    "        ans.hideturtle()\n",
    "        ans.penup()\n",
    "        correct_st = data[data.state == answer]\n",
    "        ans.goto(float(correct_st.x), float(correct_st.y))\n",
    "        ans.write(answer, align=\"center\", font= (\"Arial\", 8, \"normal\"))\n",
    "        \n",
    "    if answer == \"Exit\":\n",
    "        break\n",
    "\n",
    "\n",
    "# Close the Turtle graphics window if it's open\n",
    "df = pd.DataFrame(state_list)\n",
    "df.to_csv(\"remaining states.csv\")\n",
    "\n",
    "turtle.bye()"
   ]
  },
  {
   "cell_type": "code",
   "execution_count": null,
   "metadata": {},
   "outputs": [],
   "source": []
  }
 ],
 "metadata": {
  "kernelspec": {
   "display_name": "Python 3",
   "language": "python",
   "name": "python3"
  },
  "language_info": {
   "codemirror_mode": {
    "name": "ipython",
    "version": 3
   },
   "file_extension": ".py",
   "mimetype": "text/x-python",
   "name": "python",
   "nbconvert_exporter": "python",
   "pygments_lexer": "ipython3",
   "version": "3.8.5"
  }
 },
 "nbformat": 4,
 "nbformat_minor": 4
}
